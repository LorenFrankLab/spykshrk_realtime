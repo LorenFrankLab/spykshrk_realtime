{
 "cells": [
  {
   "cell_type": "code",
   "execution_count": 1,
   "metadata": {},
   "outputs": [],
   "source": [
    "# import packages\n",
    "import os \n",
    "path_main = '/home/mcoulter/spykshrk_realtime'\n",
    "os.chdir(path_main)  # navigate to main spykshrk parent directory \n",
    "\n",
    "%load_ext autoreload\n",
    "%autoreload 2\n",
    "import matplotlib.pyplot as plt\n",
    "\n",
    "import loren_frank_data_processing as lfdp\n",
    "from loren_frank_data_processing import Animal\n",
    "import numpy as np\n",
    "import pandas as pd\n",
    "np.seterr(divide='ignore',invalid='ignore')\n",
    "import trodes2SS\n",
    "import scipy as sp\n",
    "import sungod_util\n",
    "from spykshrk.franklab.data_containers import RippleTimes, pos_col_format, FlatLinearPosition, SpikeFeatures\n",
    "#FlatLinearPosition, SpikeFeatures, Posteriors, \\\n",
    "         #EncodeSettings, pos_col_format, SpikeObservation, RippleTimes, DayEpochEvent, DayEpochTimeSeries\n",
    "from spykshrk.franklab.pp_decoder.pp_clusterless import OfflinePPEncoder, OfflinePPDecoder\n",
    "from spykshrk.franklab.pp_decoder.visualization import DecodeVisualizer\n",
    "from spykshrk.franklab.pp_decoder.util import apply_no_anim_boundary\n",
    "\n",
    "pd.set_option('display.max_rows', 10)\n",
    "pd.set_option('display.width', 120)\n"
   ]
  },
  {
   "cell_type": "code",
   "execution_count": 3,
   "metadata": {},
   "outputs": [],
   "source": [
    "# load realtime records\n",
    "# 2-11 new marks\n",
    "#hdf_file = '/stelmo/mcoulter/spykshrk_output_westerlies/remy_decoder_19tet_2_11_new_marks.rec_merged.h5'\n",
    "\n",
    "# 2-13 new linearization and vel smoothing\n",
    "#hdf_file = '/stelmo/mcoulter/spykshrk_output_westerlies/remy_decoder_19tet_2_13_vel_smooth.rec_merged.h5'\n",
    "\n",
    "# 2-15 no velocity filter on occupancy - should have position at all time\n",
    "#hdf_file = '/stelmo/mcoulter/spykshrk_output/greenflash/remy_2_15_linearization.rec_merged.h5'\n",
    "\n",
    "# 2-19 occupancy_data has all position data\n",
    "hdf_file = '/stelmo/mcoulter/spykshrk_output/greenflash/remy_2_19_linearized_pos.rec_merged.h5'\n",
    "\n",
    "store = pd.HDFStore(hdf_file, mode='r')\n",
    "\n",
    "encoder_data1 = store['rec_3']\n",
    "decoder_data1 = store['rec_4']\n",
    "decoder_missed_spikes1 = store['rec_5']\n",
    "likelihood_data1 = store['rec_6']\n",
    "occupancy_data1 = store['rec_7']\n",
    "#ripple_data1 = store['rec_1']\n",
    "#stim_state = store['rec_10']\n",
    "stim_lockout1 = store['rec_11']\n",
    "stim_message1 = store['rec_12']\n",
    "timing1 = store['rec_100']"
   ]
  },
  {
   "cell_type": "code",
   "execution_count": 5,
   "metadata": {},
   "outputs": [],
   "source": [
    "occupancy_data1.to_csv('/stelmo/mcoulter/realtime_pos_data.csv')"
   ]
  },
  {
   "cell_type": "code",
   "execution_count": null,
   "metadata": {},
   "outputs": [],
   "source": []
  }
 ],
 "metadata": {
  "kernelspec": {
   "display_name": "Python 3",
   "language": "python",
   "name": "python3"
  },
  "language_info": {
   "codemirror_mode": {
    "name": "ipython",
    "version": 3
   },
   "file_extension": ".py",
   "mimetype": "text/x-python",
   "name": "python",
   "nbconvert_exporter": "python",
   "pygments_lexer": "ipython3",
   "version": "3.6.8"
  }
 },
 "nbformat": 4,
 "nbformat_minor": 2
}
